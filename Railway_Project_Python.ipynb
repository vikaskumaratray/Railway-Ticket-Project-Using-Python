import os
import json

TICKETS_FILE = "tickets.txt"

class Ticket:
    def __init__(self, name, event, seats):
        self.name = name
        self.event = event
        self.seats = seats

    def to_dict(self):
        return {"name": self.name, "event": self.event, "seats": self.seats}

    @staticmethod
    def from_dict(data):
        return Ticket(data["name"], data["event"], data["seats"])


class TicketSystem:
    def __init__(self):
        self.tickets = self.load_tickets()

    def load_tickets(self):
        if not os.path.exists(TICKETS_FILE):
            return []
        with open(TICKETS_FILE, "r") as file:
            data = json.load(file)
            return [Ticket.from_dict(t) for t in data]

    def save_tickets(self):
        with open(TICKETS_FILE, "w") as file:
            json.dump([t.to_dict() for t in self.tickets], file, indent=4)

    def book_ticket(self):
        name = input("Enter your name: ")
        event = input("Enter event name: ")
        try:
            seats = int(input("Enter number of seats: "))
        except ValueError:
            print("Invalid number of seats.")
            return
        ticket = Ticket(name, event, seats)
        self.tickets.append(ticket)
        self.save_tickets()
        print("✅ Ticket booked successfully!")

    def view_tickets(self):
        if not self.tickets:
            print("No tickets booked yet.")
            return
        print("\n--- Booked Tickets ---")
        for i, t in enumerate(self.tickets, 1):
            print(f"{i}. Name: {t.name}, Event: {t.event}, Seats: {t.seats}")
        print("----------------------")

    def cancel_ticket(self):
        self.view_tickets()
        if not self.tickets:
            return
        try:
            idx = int(input("Enter ticket number to cancel: "))
            if 1 <= idx <= len(self.tickets):
                removed = self.tickets.pop(idx - 1)
                self.save_tickets()
                print(f"❌ Ticket for {removed.name} canceled.")
            else:
                print("Invalid ticket number.")
        except ValueError:
            print("Invalid input.")

    def run(self):
        while True:
            print("\n====== Ticket Reservation System ======")
            print("1. Book Ticket")
            print("2. View Tickets")
            print("3. Cancel Ticket")
            print("4. Exit")
            choice = input("Enter your choice: ")
            if choice == "1":
                self.book_ticket()
            elif choice == "2":
                self.view_tickets()
            elif choice == "3":
                self.cancel_ticket()
            elif choice == "4":
                print("Exiting... Goodbye!")
                break
            else:
                print("Invalid choice. Please try again.")


if __name__ == "__main__":
    system = TicketSystem()
    system.run()
